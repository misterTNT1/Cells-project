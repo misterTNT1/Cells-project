{
  "cells": [
    {
      "cell_type": "markdown",
      "metadata": {
        "id": "view-in-github",
        "colab_type": "text"
      },
      "source": [
        "<a href=\"https://colab.research.google.com/github/misterTNT1/Cells-project/blob/main/CellsProject.ipynb\" target=\"_parent\"><img src=\"https://colab.research.google.com/assets/colab-badge.svg\" alt=\"Open In Colab\"/></a>"
      ]
    },
    {
      "cell_type": "code",
      "execution_count": null,
      "metadata": {
        "id": "qlUwYRIGFuEw"
      },
      "outputs": [],
      "source": [
        "from random import random, randint\n",
        "import matplotlib.pyplot as plt\n",
        "from collections.abc import Generator\n",
        "\n",
        "is_food_regrows = True\n",
        "\n",
        "SIZE = 100\n",
        "\n",
        "AMOUNT = 250\n",
        "\n",
        "STARTING_AMOUNT = 5000\n",
        "\n",
        "\n",
        "food_locations = []\n",
        "\n",
        "cell_locations = []\n",
        "\n",
        "cells_amount = []\n",
        "\n",
        "t_list = []\n",
        "\n",
        "\n",
        "\n",
        "def gen_location(l1, size=SIZE):\n",
        "  if l1 is food_locations:\n",
        "    location = [randint(-size / 2, size /2 ), randint(-size / 2, size / 2)]\n",
        "    while location in food_locations:\n",
        "      location = [randint(-size / 2, size /2 ), randint(-size / 2, size / 2)]\n",
        "    food_locations.append(location)\n",
        "  else:\n",
        "    location = [randint(-size / 2, size /2 ), randint(-size / 2, size / 2)]\n",
        "    while location in cell_locations:\n",
        "      location = [randint(-size / 2, size /2 ), randint(-size / 2, size / 2)]\n",
        "    cell_locations.append(location)\n",
        "  return location\n",
        "\n",
        "\n",
        "class Food:\n",
        "  global AMOUNT\n",
        "  def __init__(self, food_per_t):\n",
        "    global food_list\n",
        "    self.locations = []\n",
        "    self.food_per_t = food_per_t\n",
        "    self.is_food_regrows = is_food_regrows\n",
        "\n",
        "\n",
        "  def gen_locations(self):\n",
        "    while len(food_locations) < AMOUNT:\n",
        "      location = gen_location(food_locations)\n",
        "      food_locations.append(location)\n",
        "\n",
        "\n",
        "food = Food(10000)\n",
        "\n",
        "t_list = [i for i in range(1, 41)]"
      ]
    },
    {
      "cell_type": "code",
      "source": [
        "class Cell:\n",
        "  def __init__(self):\n",
        "    self.location = gen_location(cell_locations)\n",
        "\n",
        "  def move(self):\n",
        "    new_location = self.food_nearby()\n",
        "    if new_location is None:\n",
        "      x, y = randint(-1, 1), randint(-1, 1)\n",
        "      while abs(self.location[0] + x) > 50:\n",
        "        x, y = randint(-1, 1), randint(-1, 1)\n",
        "        if [self.location[0] + x, self.location[1] +  y] in cell_locations:\n",
        "          x, y = randint(-1, 1), randint(-1, 1)\n",
        "      self.location[0] += x\n",
        "      self.location[1] += y\n",
        "\n",
        "  def check_for_food(self):\n",
        "    location = self.location\n",
        "    return location if location in food_locations else None\n",
        "\n",
        "\n",
        "  def gen_locations(self):\n",
        "    while len(cell_locations) < STARTING_AMOUNT:\n",
        "      location = gen_location(cell_locations)\n",
        "      if location:\n",
        "        cell_locations.append(gen_location(cell_locations))\n",
        "\n",
        "\n",
        "  def food_nearby(self):\n",
        "    for x in [self.location[0] - 1, self.location[0] + 1]:\n",
        "      for y in [self.location[1] - 1, self.location[1] + 1]:\n",
        "        if [x, y] in food_locations:\n",
        "          return [x, y]\n",
        "\n",
        "    return None\n",
        "\n",
        "cell_list = [Cell() for i in range(STARTING_AMOUNT)]"
      ],
      "metadata": {
        "id": "5aw3sEalWy_E"
      },
      "execution_count": null,
      "outputs": []
    },
    {
      "cell_type": "code",
      "source": [
        "class World:\n",
        "  global STARTING_AMOUNT\n",
        "  def __init__(self, temperature, food, cells: list):\n",
        "    self.temperature = temperature\n",
        "    self.starting_amount = STARTING_AMOUNT\n",
        "    self.current_amount = self.starting_amount\n",
        "    self.food = food\n",
        "    self.cells = cells\n",
        "    self.per_over_29 = 0.1\n",
        "    self.size = SIZE\n",
        "    self.per_temp_until_29 = 0.05\n",
        "    self.current_percent = 0.1 - (self.temperature - 29 if self.temperature > 29 else 0) * self.per_over_29 + (temperature - 21) * self.per_temp_until_29\n",
        "\n",
        "\n",
        "  def steps(self, n):\n",
        "    for i in range(n):\n",
        "      self.cells.append(Cell() for i in range(self.current_amount - STARTING_AMOUNT))\n",
        "      cells_amount.append(self.current_amount)\n",
        "      for cell in self.cells:\n",
        "        if isinstance(cell, Generator):\n",
        "          raise ValueError(\"a problem has occurred with the cell\")\n",
        "        num = random()\n",
        "        if num < self.current_percent:\n",
        "          current_location = cell.check_for_food()\n",
        "          if current_location is not None:\n",
        "            food_locations.remove(current_location)\n",
        "            gen_location(cell_locations)\n",
        "            self.current_amount += 1\n",
        "          else:\n",
        "            cell.move()\n",
        "        else:\n",
        "          cell_locations.remove(cell.location)\n",
        "          self.cells.remove(cell)\n",
        "          self.current_amount -= 1\n",
        "      AMOUNT = len(food_locations) + food.food_per_t\n",
        "      food.gen_locations()\n",
        "\n",
        "\n",
        "world = World(28, food, cell_list)\n",
        "\n",
        "\n",
        "#world.steps(40)"
      ],
      "metadata": {
        "id": "Il-_2eWjhNQ8",
        "colab": {
          "base_uri": "https://localhost:8080/"
        },
        "outputId": "3ccf6b5b-50ef-4c3a-aaa2-053502a8deeb"
      },
      "execution_count": null,
      "outputs": [
        {
          "output_type": "stream",
          "name": "stdout",
          "text": [
            "True\n"
          ]
        }
      ]
    }
  ],
  "metadata": {
    "colab": {
      "provenance": [],
      "authorship_tag": "ABX9TyMvbSwgle8yvDT8pui6eegB",
      "include_colab_link": true
    },
    "kernelspec": {
      "display_name": "Python 3",
      "name": "python3"
    },
    "language_info": {
      "name": "python"
    }
  },
  "nbformat": 4,
  "nbformat_minor": 0
}